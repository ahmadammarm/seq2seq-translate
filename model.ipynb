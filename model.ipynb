{
 "cells": [
  {
   "cell_type": "code",
   "execution_count": 1,
   "metadata": {},
   "outputs": [
    {
     "name": "stdout",
     "output_type": "stream",
     "text": [
      "WARNING:tensorflow:From c:\\Users\\USER\\AppData\\Local\\Programs\\Python\\Python311\\Lib\\site-packages\\keras\\src\\losses.py:2976: The name tf.losses.sparse_softmax_cross_entropy is deprecated. Please use tf.compat.v1.losses.sparse_softmax_cross_entropy instead.\n",
      "\n"
     ]
    }
   ],
   "source": [
    "import numpy as np\n",
    "import pandas as pd\n",
    "from sklearn.model_selection import train_test_split\n",
    "from tensorflow.keras.preprocessing.text import Tokenizer\n",
    "from tensorflow.keras.preprocessing.sequence import pad_sequences\n",
    "from tensorflow.keras.models import Model\n",
    "from tensorflow.keras.layers import Input, LSTM, Embedding, Dense, Concatenate\n",
    "from tensorflow.keras.utils import to_categorical"
   ]
  },
  {
   "cell_type": "code",
   "execution_count": 2,
   "metadata": {},
   "outputs": [],
   "source": [
    "# Load dataset\n",
    "file_path = 'dataset.csv'\n",
    "df = pd.read_csv(file_path, encoding='latin-1', sep=';')"
   ]
  },
  {
   "cell_type": "code",
   "execution_count": 18,
   "metadata": {},
   "outputs": [],
   "source": [
    "# Extract columns\n",
    "kuno_texts = df['Kuno'].astype(str).values\n",
    "ngoko_texts = df['Ngoko'].astype(str).values"
   ]
  },
  {
   "cell_type": "code",
   "execution_count": 19,
   "metadata": {},
   "outputs": [],
   "source": [
    "# Gabungkan semua teks untuk tokenisasi\n",
    "all_texts = np.concatenate([kuno_texts, ngoko_texts])"
   ]
  },
  {
   "cell_type": "code",
   "execution_count": 20,
   "metadata": {},
   "outputs": [],
   "source": [
    "\n",
    "# Gunakan satu tokenizer untuk semua teks\n",
    "tokenizer = Tokenizer()\n",
    "tokenizer.fit_on_texts(all_texts)"
   ]
  },
  {
   "cell_type": "code",
   "execution_count": 21,
   "metadata": {},
   "outputs": [],
   "source": [
    "# Ukuran vocabulary\n",
    "vocab_size = len(tokenizer.word_index) + 1"
   ]
  },
  {
   "cell_type": "code",
   "execution_count": 22,
   "metadata": {},
   "outputs": [],
   "source": [
    "# Konversi teks ke sequence\n",
    "kuno_sequences = tokenizer.texts_to_sequences(kuno_texts)\n",
    "ngoko_sequences = tokenizer.texts_to_sequences(ngoko_texts)"
   ]
  },
  {
   "cell_type": "code",
   "execution_count": 24,
   "metadata": {},
   "outputs": [],
   "source": [
    "# Padding\n",
    "kuno_padded = pad_sequences(kuno_sequences, maxlen=max_sequence_length, padding='post')\n",
    "ngoko_padded = pad_sequences(ngoko_sequences, maxlen=max_sequence_length, padding='post')"
   ]
  },
  {
   "cell_type": "code",
   "execution_count": 25,
   "metadata": {},
   "outputs": [],
   "source": [
    "\n",
    "# Split dataset\n",
    "X_train, X_test, y_train, y_test = train_test_split(\n",
    "    kuno_padded, ngoko_padded, test_size=0.2, random_state=42\n",
    ")"
   ]
  },
  {
   "cell_type": "code",
   "execution_count": 26,
   "metadata": {},
   "outputs": [],
   "source": [
    "# Konfigurasi model\n",
    "embedding_dim = 128\n",
    "latent_dim = 256"
   ]
  },
  {
   "cell_type": "code",
   "execution_count": 27,
   "metadata": {},
   "outputs": [],
   "source": [
    "# Encoder\n",
    "encoder_inputs = Input(shape=(max_sequence_length,))\n",
    "encoder_embedding = Embedding(vocab_size, embedding_dim, mask_zero=True)(encoder_inputs)\n",
    "encoder_lstm = LSTM(latent_dim, return_sequences=True, return_state=True)\n",
    "encoder_outputs, state_h, state_c = encoder_lstm(encoder_embedding)"
   ]
  },
  {
   "cell_type": "code",
   "execution_count": 28,
   "metadata": {},
   "outputs": [],
   "source": [
    "# Decoder\n",
    "decoder_inputs = Input(shape=(max_sequence_length,))\n",
    "decoder_embedding = Embedding(vocab_size, embedding_dim, mask_zero=True)(decoder_inputs)\n",
    "decoder_lstm = LSTM(latent_dim, return_sequences=True)(\n",
    "    decoder_embedding, initial_state=[state_h, state_c]\n",
    ")"
   ]
  },
  {
   "cell_type": "code",
   "execution_count": 29,
   "metadata": {},
   "outputs": [],
   "source": [
    "# Output layer\n",
    "decoder_dense = Dense(vocab_size, activation='softmax')\n",
    "decoder_outputs = decoder_dense(decoder_lstm)"
   ]
  },
  {
   "cell_type": "code",
   "execution_count": 30,
   "metadata": {},
   "outputs": [],
   "source": [
    "# Model\n",
    "model = Model([encoder_inputs, decoder_inputs], decoder_outputs)\n",
    "model.compile(optimizer='adam', loss='sparse_categorical_crossentropy', metrics=['accuracy'])"
   ]
  },
  {
   "cell_type": "code",
   "execution_count": 31,
   "metadata": {},
   "outputs": [],
   "source": [
    "# Persiapan label\n",
    "y_train = np.expand_dims(y_train, -1)\n",
    "y_test = np.expand_dims(y_test, -1)"
   ]
  },
  {
   "cell_type": "code",
   "execution_count": null,
   "metadata": {},
   "outputs": [
    {
     "name": "stdout",
     "output_type": "stream",
     "text": [
      "Epoch 1/50\n",
      "4/4 [==============================] - 27s 2s/step - loss: 6.5007 - accuracy: 0.0377 - val_loss: 6.4953 - val_accuracy: 0.1111\n",
      "Epoch 2/50\n",
      "4/4 [==============================] - 0s 103ms/step - loss: 6.4818 - accuracy: 0.1038 - val_loss: 6.4843 - val_accuracy: 0.1019\n",
      "Epoch 3/50\n",
      "4/4 [==============================] - 0s 101ms/step - loss: 6.4519 - accuracy: 0.0943 - val_loss: 6.4568 - val_accuracy: 0.1019\n",
      "Epoch 4/50\n",
      "4/4 [==============================] - 0s 105ms/step - loss: 6.3684 - accuracy: 0.0849 - val_loss: 6.3688 - val_accuracy: 0.1019\n",
      "Epoch 5/50\n",
      "4/4 [==============================] - 0s 104ms/step - loss: 6.0854 - accuracy: 0.0825 - val_loss: 6.1422 - val_accuracy: 0.1019\n",
      "Epoch 6/50\n",
      "4/4 [==============================] - 0s 104ms/step - loss: 5.6098 - accuracy: 0.0825 - val_loss: 6.1521 - val_accuracy: 0.1019\n",
      "Epoch 7/50\n",
      "4/4 [==============================] - 0s 104ms/step - loss: 5.2697 - accuracy: 0.0849 - val_loss: 6.3410 - val_accuracy: 0.1111\n",
      "Epoch 8/50\n",
      "4/4 [==============================] - 0s 115ms/step - loss: 5.0833 - accuracy: 0.1038 - val_loss: 6.5440 - val_accuracy: 0.1019\n",
      "Epoch 9/50\n",
      "4/4 [==============================] - 0s 116ms/step - loss: 5.0006 - accuracy: 0.1085 - val_loss: 6.7072 - val_accuracy: 0.1111\n",
      "Epoch 10/50\n",
      "4/4 [==============================] - 0s 109ms/step - loss: 4.9245 - accuracy: 0.1061 - val_loss: 6.8160 - val_accuracy: 0.1296\n",
      "Epoch 11/50\n",
      "4/4 [==============================] - 1s 144ms/step - loss: 4.8540 - accuracy: 0.1014 - val_loss: 6.9689 - val_accuracy: 0.1296\n",
      "Epoch 12/50\n",
      "4/4 [==============================] - 1s 138ms/step - loss: 4.7843 - accuracy: 0.1038 - val_loss: 7.0819 - val_accuracy: 0.1481\n",
      "Epoch 13/50\n",
      "4/4 [==============================] - 1s 156ms/step - loss: 4.7333 - accuracy: 0.1250 - val_loss: 7.1573 - val_accuracy: 0.1389\n",
      "Epoch 14/50\n",
      "4/4 [==============================] - 0s 130ms/step - loss: 4.6603 - accuracy: 0.1203 - val_loss: 7.2252 - val_accuracy: 0.1389\n",
      "Epoch 15/50\n",
      "4/4 [==============================] - 0s 122ms/step - loss: 4.6122 - accuracy: 0.1156 - val_loss: 7.3104 - val_accuracy: 0.1389\n",
      "Epoch 16/50\n",
      "4/4 [==============================] - 0s 112ms/step - loss: 4.5627 - accuracy: 0.1203 - val_loss: 7.3746 - val_accuracy: 0.1481\n",
      "Epoch 17/50\n",
      "4/4 [==============================] - 0s 104ms/step - loss: 4.5123 - accuracy: 0.1203 - val_loss: 7.4385 - val_accuracy: 0.1389\n",
      "Epoch 18/50\n",
      "4/4 [==============================] - 0s 105ms/step - loss: 4.4642 - accuracy: 0.1274 - val_loss: 7.5118 - val_accuracy: 0.1389\n",
      "Epoch 19/50\n",
      "4/4 [==============================] - 0s 107ms/step - loss: 4.4086 - accuracy: 0.1344 - val_loss: 7.5623 - val_accuracy: 0.1481\n",
      "Epoch 20/50\n",
      "4/4 [==============================] - 1s 161ms/step - loss: 4.3583 - accuracy: 0.1486 - val_loss: 7.5607 - val_accuracy: 0.1481\n",
      "Epoch 21/50\n",
      "4/4 [==============================] - 0s 121ms/step - loss: 4.3069 - accuracy: 0.1627 - val_loss: 7.5557 - val_accuracy: 0.1481\n",
      "Epoch 22/50\n",
      "4/4 [==============================] - 0s 111ms/step - loss: 4.2458 - accuracy: 0.1604 - val_loss: 7.5484 - val_accuracy: 0.1389\n",
      "Epoch 23/50\n",
      "4/4 [==============================] - 0s 131ms/step - loss: 4.1888 - accuracy: 0.1698 - val_loss: 7.5799 - val_accuracy: 0.1481\n",
      "Epoch 24/50\n",
      "4/4 [==============================] - 0s 107ms/step - loss: 4.1247 - accuracy: 0.1745 - val_loss: 7.6031 - val_accuracy: 0.1389\n",
      "Epoch 25/50\n",
      "4/4 [==============================] - 1s 139ms/step - loss: 4.0489 - accuracy: 0.1863 - val_loss: 7.5905 - val_accuracy: 0.1481\n",
      "Epoch 26/50\n",
      "4/4 [==============================] - 0s 124ms/step - loss: 3.9875 - accuracy: 0.1887 - val_loss: 7.6297 - val_accuracy: 0.1389\n",
      "Epoch 27/50\n",
      "4/4 [==============================] - 0s 117ms/step - loss: 3.9162 - accuracy: 0.1887 - val_loss: 7.5921 - val_accuracy: 0.1481\n",
      "Epoch 28/50\n",
      "4/4 [==============================] - 0s 125ms/step - loss: 3.8415 - accuracy: 0.1958 - val_loss: 7.6596 - val_accuracy: 0.1481\n",
      "Epoch 29/50\n",
      "4/4 [==============================] - 0s 118ms/step - loss: 3.7558 - accuracy: 0.1981 - val_loss: 7.6202 - val_accuracy: 0.1667\n",
      "Epoch 30/50\n",
      "4/4 [==============================] - 0s 107ms/step - loss: 3.6700 - accuracy: 0.2217 - val_loss: 7.6235 - val_accuracy: 0.1574\n",
      "Epoch 31/50\n",
      "4/4 [==============================] - 0s 107ms/step - loss: 3.5782 - accuracy: 0.2358 - val_loss: 7.6898 - val_accuracy: 0.1574\n",
      "Epoch 32/50\n",
      "4/4 [==============================] - 0s 112ms/step - loss: 3.4835 - accuracy: 0.2288 - val_loss: 7.6710 - val_accuracy: 0.1481\n",
      "Epoch 33/50\n",
      "4/4 [==============================] - 0s 105ms/step - loss: 3.3878 - accuracy: 0.2358 - val_loss: 7.7299 - val_accuracy: 0.1481\n",
      "Epoch 34/50\n",
      "4/4 [==============================] - 0s 106ms/step - loss: 3.2768 - accuracy: 0.2476 - val_loss: 7.6933 - val_accuracy: 0.1574\n",
      "Epoch 35/50\n",
      "4/4 [==============================] - 0s 122ms/step - loss: 3.1697 - accuracy: 0.2712 - val_loss: 7.7003 - val_accuracy: 0.1481\n",
      "Epoch 36/50\n",
      "4/4 [==============================] - 0s 106ms/step - loss: 3.0741 - accuracy: 0.2925 - val_loss: 7.7443 - val_accuracy: 0.1481\n",
      "Epoch 37/50\n",
      "4/4 [==============================] - 0s 106ms/step - loss: 2.9534 - accuracy: 0.3184 - val_loss: 7.7699 - val_accuracy: 0.1852\n",
      "Epoch 38/50\n",
      "4/4 [==============================] - 1s 107ms/step - loss: 2.8357 - accuracy: 0.3443 - val_loss: 7.8121 - val_accuracy: 0.1759\n",
      "Epoch 39/50\n",
      "4/4 [==============================] - 0s 107ms/step - loss: 2.7098 - accuracy: 0.3632 - val_loss: 7.7809 - val_accuracy: 0.1759\n",
      "Epoch 40/50\n",
      "4/4 [==============================] - 0s 106ms/step - loss: 2.5907 - accuracy: 0.4009 - val_loss: 7.9002 - val_accuracy: 0.1852\n",
      "Epoch 41/50\n",
      "4/4 [==============================] - 0s 106ms/step - loss: 2.4717 - accuracy: 0.4340 - val_loss: 7.9040 - val_accuracy: 0.1852\n",
      "Epoch 42/50\n",
      "4/4 [==============================] - 0s 124ms/step - loss: 2.3476 - accuracy: 0.4552 - val_loss: 7.9134 - val_accuracy: 0.1852\n",
      "Epoch 43/50\n",
      "4/4 [==============================] - 0s 107ms/step - loss: 2.2228 - accuracy: 0.5047 - val_loss: 7.8962 - val_accuracy: 0.1481\n",
      "Epoch 44/50\n",
      "4/4 [==============================] - 0s 111ms/step - loss: 2.0912 - accuracy: 0.5448 - val_loss: 7.9717 - val_accuracy: 0.1667\n",
      "Epoch 45/50\n",
      "4/4 [==============================] - 0s 113ms/step - loss: 1.9841 - accuracy: 0.5849 - val_loss: 8.0383 - val_accuracy: 0.1667\n",
      "Epoch 46/50\n",
      "4/4 [==============================] - 0s 112ms/step - loss: 1.8714 - accuracy: 0.6038 - val_loss: 7.9899 - val_accuracy: 0.1759\n",
      "Epoch 47/50\n",
      "4/4 [==============================] - 0s 107ms/step - loss: 1.7558 - accuracy: 0.6627 - val_loss: 8.0549 - val_accuracy: 0.1667\n",
      "Epoch 48/50\n",
      "4/4 [==============================] - 0s 107ms/step - loss: 1.6472 - accuracy: 0.6816 - val_loss: 8.0695 - val_accuracy: 0.1852\n",
      "Epoch 49/50\n",
      "4/4 [==============================] - 0s 108ms/step - loss: 1.5447 - accuracy: 0.7217 - val_loss: 8.0600 - val_accuracy: 0.1759\n",
      "Epoch 50/50\n",
      "4/4 [==============================] - 0s 115ms/step - loss: 1.4396 - accuracy: 0.7453 - val_loss: 8.0930 - val_accuracy: 0.1944\n"
     ]
    },
    {
     "data": {
      "text/plain": [
       "<keras.src.callbacks.History at 0x21db7fd8b10>"
      ]
     },
     "execution_count": 32,
     "metadata": {},
     "output_type": "execute_result"
    }
   ],
   "source": [
    "# Training\n",
    "model.fit(\n",
    "    [X_train, X_train], y_train, \n",
    "    epochs=50, \n",
    "    batch_size=32, \n",
    "    validation_split=0.2\n",
    ")\n"
   ]
  },
  {
   "cell_type": "code",
   "execution_count": null,
   "metadata": {},
   "outputs": [],
   "source": [
    "# Fungsi untuk menterjemahkan\n",
    "def translate_text(input_text):\n",
    "    # Konversi input ke sequence\n",
    "    input_seq = tokenizer.texts_to_sequences([input_text])\n",
    "    input_padded = pad_sequences(input_seq, maxlen=max_sequence_length, padding='post')\n",
    "    \n",
    "    # Prediksi\n",
    "    predicted_output = input_padded.copy()\n",
    "    \n",
    "    for i in range(max_sequence_length):\n",
    "        predictions = model.predict([input_padded, predicted_output])\n",
    "        predicted_idx = np.argmax(predictions[0, i, :])\n",
    "        predicted_output[0, i] = predicted_idx\n",
    "    \n",
    "    # Konversi kembali ke teks\n",
    "    output_words = [tokenizer.index_word.get(idx, '') for idx in predicted_output[0] if idx != 0]\n",
    "    return ' '.join(output_words)\n",
    "\n"
   ]
  },
  {
   "cell_type": "code",
   "execution_count": null,
   "metadata": {},
   "outputs": [
    {
     "name": "stdout",
     "output_type": "stream",
     "text": [
      "2/2 [==============================] - 0s 51ms/step - loss: 7.3609 - accuracy: 0.2400\n",
      "Akurasi model: 0.24\n"
     ]
    }
   ],
   "source": [
    "# Evaluasi model\n",
    "test_accuracy = model.evaluate([X_test, X_test], y_test)[1]\n",
    "print(f'Akurasi model: {test_accuracy:.2f}')\n",
    "\n"
   ]
  },
  {
   "cell_type": "code",
   "execution_count": 37,
   "metadata": {},
   "outputs": [
    {
     "name": "stdout",
     "output_type": "stream",
     "text": [
      "1/1 [==============================] - 0s 71ms/step\n",
      "1/1 [==============================] - 0s 82ms/step\n",
      "1/1 [==============================] - 0s 67ms/step\n",
      "1/1 [==============================] - 0s 44ms/step\n",
      "1/1 [==============================] - 0s 62ms/step\n",
      "1/1 [==============================] - 0s 64ms/step\n",
      "1/1 [==============================] - 0s 47ms/step\n",
      "1/1 [==============================] - 0s 44ms/step\n",
      "1/1 [==============================] - 0s 63ms/step\n",
      "1/1 [==============================] - 0s 62ms/step\n",
      "Hasil terjemahan: dharma tama anane bener anane anane anane\n"
     ]
    }
   ],
   "source": [
    "# Interaksi pengguna\n",
    "while True:\n",
    "    user_input = input(\"Masukkan teks Kuno untuk diterjemahkan ke Ngoko (atau ketik 'exit' untuk keluar): \")\n",
    "    if user_input.lower() == 'exit':\n",
    "        break\n",
    "    \n",
    "    translation = translate_text(user_input)\n",
    "    print(f\"Hasil terjemahan: {translation}\")"
   ]
  }
 ],
 "metadata": {
  "kernelspec": {
   "display_name": "Python 3",
   "language": "python",
   "name": "python3"
  },
  "language_info": {
   "codemirror_mode": {
    "name": "ipython",
    "version": 3
   },
   "file_extension": ".py",
   "mimetype": "text/x-python",
   "name": "python",
   "nbconvert_exporter": "python",
   "pygments_lexer": "ipython3",
   "version": "3.11.5"
  }
 },
 "nbformat": 4,
 "nbformat_minor": 2
}
